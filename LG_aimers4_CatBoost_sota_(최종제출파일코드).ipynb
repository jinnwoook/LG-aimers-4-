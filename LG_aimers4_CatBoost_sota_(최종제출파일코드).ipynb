{
  "cells": [
    {
      "cell_type": "markdown",
      "metadata": {
        "id": "si2zCt3G6fil"
      },
      "source": [
        "#라이브러리 설치 및 Import"
      ]
    },
    {
      "cell_type": "code",
      "source": [
        "from google.colab import drive\n",
        "drive.mount('/content/drive')\n",
        "%cd /content/drive/My Drive/lg_aimers4\n"
      ],
      "metadata": {
        "colab": {
          "base_uri": "https://localhost:8080/"
        },
        "id": "Awlvi9Zpmae6",
        "outputId": "ef26df4b-0493-4659-fb6d-9bd13c4e87d5"
      },
      "execution_count": null,
      "outputs": [
        {
          "output_type": "stream",
          "name": "stdout",
          "text": [
            "Mounted at /content/drive\n",
            "/content/drive/My Drive/lg_aimers4\n"
          ]
        }
      ]
    },
    {
      "cell_type": "code",
      "execution_count": null,
      "metadata": {
        "id": "l5mrTIRe9Dou"
      },
      "outputs": [],
      "source": [
        "import pandas as pd\n",
        "import numpy as np\n",
        "from sklearn.metrics import (\n",
        "    accuracy_score,\n",
        "    confusion_matrix,\n",
        "    f1_score,\n",
        "    precision_score,\n",
        "    recall_score,\n",
        ")\n",
        "from sklearn.model_selection import train_test_split"
      ]
    },
    {
      "cell_type": "code",
      "execution_count": null,
      "metadata": {
        "colab": {
          "base_uri": "https://localhost:8080/"
        },
        "id": "0aEqQctVBTSx",
        "outputId": "6f289479-62e2-464c-b659-c02b3ab55f00"
      },
      "outputs": [
        {
          "output_type": "stream",
          "name": "stdout",
          "text": [
            "Collecting catboost\n",
            "  Downloading catboost-1.2.3-cp310-cp310-manylinux2014_x86_64.whl (98.5 MB)\n",
            "\u001b[2K     \u001b[90m━━━━━━━━━━━━━━━━━━━━━━━━━━━━━━━━━━━━━━━━\u001b[0m \u001b[32m98.5/98.5 MB\u001b[0m \u001b[31m6.5 MB/s\u001b[0m eta \u001b[36m0:00:00\u001b[0m\n",
            "\u001b[?25hRequirement already satisfied: graphviz in /usr/local/lib/python3.10/dist-packages (from catboost) (0.20.1)\n",
            "Requirement already satisfied: matplotlib in /usr/local/lib/python3.10/dist-packages (from catboost) (3.7.1)\n",
            "Requirement already satisfied: numpy>=1.16.0 in /usr/local/lib/python3.10/dist-packages (from catboost) (1.25.2)\n",
            "Requirement already satisfied: pandas>=0.24 in /usr/local/lib/python3.10/dist-packages (from catboost) (1.5.3)\n",
            "Requirement already satisfied: scipy in /usr/local/lib/python3.10/dist-packages (from catboost) (1.11.4)\n",
            "Requirement already satisfied: plotly in /usr/local/lib/python3.10/dist-packages (from catboost) (5.15.0)\n",
            "Requirement already satisfied: six in /usr/local/lib/python3.10/dist-packages (from catboost) (1.16.0)\n",
            "Requirement already satisfied: python-dateutil>=2.8.1 in /usr/local/lib/python3.10/dist-packages (from pandas>=0.24->catboost) (2.8.2)\n",
            "Requirement already satisfied: pytz>=2020.1 in /usr/local/lib/python3.10/dist-packages (from pandas>=0.24->catboost) (2023.4)\n",
            "Requirement already satisfied: contourpy>=1.0.1 in /usr/local/lib/python3.10/dist-packages (from matplotlib->catboost) (1.2.0)\n",
            "Requirement already satisfied: cycler>=0.10 in /usr/local/lib/python3.10/dist-packages (from matplotlib->catboost) (0.12.1)\n",
            "Requirement already satisfied: fonttools>=4.22.0 in /usr/local/lib/python3.10/dist-packages (from matplotlib->catboost) (4.49.0)\n",
            "Requirement already satisfied: kiwisolver>=1.0.1 in /usr/local/lib/python3.10/dist-packages (from matplotlib->catboost) (1.4.5)\n",
            "Requirement already satisfied: packaging>=20.0 in /usr/local/lib/python3.10/dist-packages (from matplotlib->catboost) (23.2)\n",
            "Requirement already satisfied: pillow>=6.2.0 in /usr/local/lib/python3.10/dist-packages (from matplotlib->catboost) (9.4.0)\n",
            "Requirement already satisfied: pyparsing>=2.3.1 in /usr/local/lib/python3.10/dist-packages (from matplotlib->catboost) (3.1.1)\n",
            "Requirement already satisfied: tenacity>=6.2.0 in /usr/local/lib/python3.10/dist-packages (from plotly->catboost) (8.2.3)\n",
            "Installing collected packages: catboost\n",
            "Successfully installed catboost-1.2.3\n"
          ]
        }
      ],
      "source": [
        "pip install catboost"
      ]
    },
    {
      "cell_type": "markdown",
      "source": [
        "#데이터 분석"
      ],
      "metadata": {
        "id": "xYkov0IslDpf"
      }
    },
    {
      "cell_type": "code",
      "execution_count": null,
      "metadata": {
        "id": "szwWyJvKNqxU"
      },
      "outputs": [],
      "source": [
        "df_train = pd.read_csv(\"train.csv\") # 학습용 데이터\n",
        "df_test = pd.read_csv(\"submission.csv\") # 테스트 데이터(제출파일의 데이터)"
      ]
    },
    {
      "cell_type": "code",
      "execution_count": null,
      "metadata": {
        "colab": {
          "base_uri": "https://localhost:8080/"
        },
        "id": "jysKZqCZen1h",
        "outputId": "03940ab6-e0f2-4c21-fa7f-93aa071d889b"
      },
      "outputs": [
        {
          "output_type": "execute_result",
          "data": {
            "text/plain": [
              "59299"
            ]
          },
          "metadata": {},
          "execution_count": 5
        }
      ],
      "source": [
        "len(df_train)"
      ]
    },
    {
      "cell_type": "code",
      "execution_count": null,
      "metadata": {
        "colab": {
          "base_uri": "https://localhost:8080/"
        },
        "id": "x-LrGd62OpzW",
        "outputId": "75c848dd-0947-4763-a77a-2c503959a80e"
      },
      "outputs": [
        {
          "output_type": "stream",
          "name": "stdout",
          "text": [
            "bant_submit                float64\n",
            "customer_country            object\n",
            "business_unit               object\n",
            "com_reg_ver_win_rate       float64\n",
            "customer_idx                 int64\n",
            "customer_type               object\n",
            "enterprise                  object\n",
            "historical_existing_cnt    float64\n",
            "id_strategic_ver           float64\n",
            "it_strategic_ver           float64\n",
            "idit_strategic_ver         float64\n",
            "customer_job                object\n",
            "lead_desc_length             int64\n",
            "inquiry_type                object\n",
            "product_category            object\n",
            "product_subcategory         object\n",
            "product_modelname           object\n",
            "customer_country.1          object\n",
            "customer_position           object\n",
            "response_corporate          object\n",
            "expected_timeline           object\n",
            "ver_cus                      int64\n",
            "ver_pro                      int64\n",
            "ver_win_rate_x             float64\n",
            "ver_win_ratio_per_bu       float64\n",
            "business_area               object\n",
            "business_subarea            object\n",
            "lead_owner                   int64\n",
            "is_converted                  bool\n",
            "dtype: object\n"
          ]
        }
      ],
      "source": [
        "# dataframe 열 이름과 타입 출력\n",
        "print(df_train.dtypes)"
      ]
    },
    {
      "cell_type": "markdown",
      "metadata": {
        "id": "h7r1wJmXTen3"
      },
      "source": [
        "# 데이터 처리\n",
        "\n",
        "---\n",
        "전처리 및 결측치 처리\n"
      ]
    },
    {
      "cell_type": "code",
      "execution_count": null,
      "metadata": {
        "id": "zFNSIxmQkpZj"
      },
      "outputs": [],
      "source": [
        "# 라벨링을 true:1,false:0으로 바꾸기\n",
        "df_train['is_converted'] = df_train['is_converted'].apply(lambda x: 1 if x == True else 0)"
      ]
    },
    {
      "cell_type": "code",
      "execution_count": null,
      "metadata": {
        "id": "Ra2_dbV7kpZj"
      },
      "outputs": [],
      "source": [
        "df_train['customer_type'].fillna('others', inplace=True)"
      ]
    },
    {
      "cell_type": "code",
      "execution_count": null,
      "metadata": {
        "id": "1ijBkVoZkpZk"
      },
      "outputs": [],
      "source": [
        "df_train['customer_job'].fillna('none', inplace=True)"
      ]
    },
    {
      "cell_type": "code",
      "execution_count": null,
      "metadata": {
        "id": "EsQWTn4lkpZk"
      },
      "outputs": [],
      "source": [
        "df_train['inquiry_type'].fillna('others', inplace=True)"
      ]
    },
    {
      "cell_type": "code",
      "execution_count": null,
      "metadata": {
        "id": "23hNSsi1kpZk"
      },
      "outputs": [],
      "source": [
        "df_train['lead_owner'] = df_train['lead_owner'].astype(str)"
      ]
    },
    {
      "cell_type": "code",
      "execution_count": null,
      "metadata": {
        "id": "2LczTdmzkpZk"
      },
      "outputs": [],
      "source": [
        "#가공변수:고객의 국적과 담당 자사 법인명 기반의 지역 정보(대륙)이 일치 여부(index:27)\n",
        "df_train['same_country'] = (df_train['customer_country'] == df_train['customer_country.1']).astype(int)\n",
        "df_train['same_country'] = df_train['same_country'].map({0: '불일치', 1: '일치'})"
      ]
    },
    {
      "cell_type": "code",
      "execution_count": null,
      "metadata": {
        "id": "b_1rnrGSkpZk"
      },
      "outputs": [],
      "source": [
        "#가공변수 생성으로 인해 customer_country.1 열 제거\n",
        "df_train.drop('customer_country.1', axis=1, inplace=True)"
      ]
    },
    {
      "cell_type": "code",
      "execution_count": null,
      "metadata": {
        "id": "Pw4JK3R7kpZk"
      },
      "outputs": [],
      "source": [
        "# 독립변수와 종속변수 분리\n",
        "train_x = df_train.drop(['is_converted'], axis = 1)\n",
        "train_y = df_train['is_converted']"
      ]
    },
    {
      "cell_type": "code",
      "execution_count": null,
      "metadata": {
        "id": "iws4ED1NkpZk"
      },
      "outputs": [],
      "source": [
        "# lead_desc_length의 전체 평균 계산\n",
        "lead_desc_length_avg = train_x['lead_desc_length'].mean()"
      ]
    },
    {
      "cell_type": "code",
      "execution_count": null,
      "metadata": {
        "id": "PNREcH7_kpZk"
      },
      "outputs": [],
      "source": [
        "# historical_existing_cnt 결측치 0으로 처리\n",
        "train_x['historical_existing_cnt'].fillna(0, inplace=True)"
      ]
    },
    {
      "cell_type": "code",
      "execution_count": null,
      "metadata": {
        "id": "pBapvrXZkpZk"
      },
      "outputs": [],
      "source": [
        "# 적극성 지표인 가공변수를 생성하기 위한 함수를 정의\n",
        "\n",
        "def calculate_engagement_weight(row):\n",
        "    weight = 0\n",
        "    # bant_submit 값이 0.5 미만인 경우\n",
        "    if row['bant_submit'] < 0.5:\n",
        "        weight += 0.5\n",
        "    # lead_desc_length가 평균 이상인 경우 (평균을 다시 계산하지 않고, 함수 외부에서 계산된 평균을 사용)\n",
        "    if row['lead_desc_length'] > lead_desc_length_avg:\n",
        "        weight += 1.5\n",
        "    # historical_existing_cnt가 0인 경우\n",
        "    if row['historical_existing_cnt'] == 0:\n",
        "        weight += 1.0\n",
        "    return weight"
      ]
    },
    {
      "cell_type": "code",
      "execution_count": null,
      "metadata": {
        "id": "nDdrVQC-kpZk"
      },
      "outputs": [],
      "source": [
        "# 각 행마다 가중치 총합 계산\n",
        "train_x['engagement_weight_sum'] = train_x.apply(calculate_engagement_weight, axis=1)"
      ]
    },
    {
      "cell_type": "markdown",
      "source": [
        "가공변수를 위해 사용한 변수를 제거"
      ],
      "metadata": {
        "id": "iaMLeQoOlXdo"
      }
    },
    {
      "cell_type": "code",
      "execution_count": null,
      "metadata": {
        "id": "a7A_q0DqkpZk"
      },
      "outputs": [],
      "source": [
        "train_x.drop('bant_submit', axis=1, inplace=True)"
      ]
    },
    {
      "cell_type": "code",
      "execution_count": null,
      "metadata": {
        "id": "re1AGhGvkpZk"
      },
      "outputs": [],
      "source": [
        "train_x.drop('historical_existing_cnt', axis=1, inplace=True)"
      ]
    },
    {
      "cell_type": "code",
      "execution_count": null,
      "metadata": {
        "id": "5KuzvHfnkpZk"
      },
      "outputs": [],
      "source": [
        "train_x.drop('lead_desc_length', axis=1, inplace=True)"
      ]
    },
    {
      "cell_type": "code",
      "execution_count": null,
      "metadata": {
        "colab": {
          "base_uri": "https://localhost:8080/",
          "height": 308
        },
        "id": "VUQtUZoWkpZk",
        "outputId": "f561f39b-1787-4e05-ae62-290e1a237cf4"
      },
      "outputs": [
        {
          "output_type": "execute_result",
          "data": {
            "text/plain": [
              "           customer_country business_unit  com_reg_ver_win_rate  customer_idx  \\\n",
              "0  /Quezon City/Philippines            AS              0.066667         32160   \n",
              "1        /PH-00/Philippines            AS              0.066667         23122   \n",
              "2           /Kolkata /India            AS              0.088889          1755   \n",
              "3        /Bhubaneswar/India            AS              0.088889          4919   \n",
              "4          /Hyderabad/India            AS              0.088889         17126   \n",
              "\n",
              "           customer_type  enterprise  id_strategic_ver  it_strategic_ver  \\\n",
              "0           End-Customer  Enterprise               NaN               NaN   \n",
              "1           End-Customer  Enterprise               NaN               NaN   \n",
              "2           End-Customer  Enterprise               NaN               NaN   \n",
              "3           End-Customer  Enterprise               NaN               NaN   \n",
              "4  Specifier/ Influencer  Enterprise               NaN               NaN   \n",
              "\n",
              "   idit_strategic_ver             customer_job  ...   expected_timeline  \\\n",
              "0                 NaN               purchasing  ...  less than 3 months   \n",
              "1                 NaN  media and communication  ...  less than 3 months   \n",
              "2                 NaN              engineering  ...  less than 3 months   \n",
              "3                 NaN         entrepreneurship  ...  less than 3 months   \n",
              "4                 NaN               consulting  ...  less than 3 months   \n",
              "\n",
              "  ver_cus ver_pro ver_win_rate_x ver_win_ratio_per_bu       business_area  \\\n",
              "0       1       0       0.003079             0.026846  corporate / office   \n",
              "1       1       0       0.003079             0.026846  corporate / office   \n",
              "2       1       0       0.003079             0.026846  corporate / office   \n",
              "3       1       0       0.003079             0.026846  corporate / office   \n",
              "4       0       0       0.003079             0.026846  corporate / office   \n",
              "\n",
              "  business_subarea  lead_owner  same_country  engagement_weight_sum  \n",
              "0      Engineering           0            일치                    1.0  \n",
              "1      Advertising           1            일치                    1.5  \n",
              "2     Construction           2            일치                    0.0  \n",
              "3      IT/Software           3            일치                    1.0  \n",
              "4              NaN           4            일치                    2.5  \n",
              "\n",
              "[5 rows x 26 columns]"
            ],
            "text/html": [
              "\n",
              "  <div id=\"df-2ad6417e-abde-400f-a5de-6cb1d93e9c14\" class=\"colab-df-container\">\n",
              "    <div>\n",
              "<style scoped>\n",
              "    .dataframe tbody tr th:only-of-type {\n",
              "        vertical-align: middle;\n",
              "    }\n",
              "\n",
              "    .dataframe tbody tr th {\n",
              "        vertical-align: top;\n",
              "    }\n",
              "\n",
              "    .dataframe thead th {\n",
              "        text-align: right;\n",
              "    }\n",
              "</style>\n",
              "<table border=\"1\" class=\"dataframe\">\n",
              "  <thead>\n",
              "    <tr style=\"text-align: right;\">\n",
              "      <th></th>\n",
              "      <th>customer_country</th>\n",
              "      <th>business_unit</th>\n",
              "      <th>com_reg_ver_win_rate</th>\n",
              "      <th>customer_idx</th>\n",
              "      <th>customer_type</th>\n",
              "      <th>enterprise</th>\n",
              "      <th>id_strategic_ver</th>\n",
              "      <th>it_strategic_ver</th>\n",
              "      <th>idit_strategic_ver</th>\n",
              "      <th>customer_job</th>\n",
              "      <th>...</th>\n",
              "      <th>expected_timeline</th>\n",
              "      <th>ver_cus</th>\n",
              "      <th>ver_pro</th>\n",
              "      <th>ver_win_rate_x</th>\n",
              "      <th>ver_win_ratio_per_bu</th>\n",
              "      <th>business_area</th>\n",
              "      <th>business_subarea</th>\n",
              "      <th>lead_owner</th>\n",
              "      <th>same_country</th>\n",
              "      <th>engagement_weight_sum</th>\n",
              "    </tr>\n",
              "  </thead>\n",
              "  <tbody>\n",
              "    <tr>\n",
              "      <th>0</th>\n",
              "      <td>/Quezon City/Philippines</td>\n",
              "      <td>AS</td>\n",
              "      <td>0.066667</td>\n",
              "      <td>32160</td>\n",
              "      <td>End-Customer</td>\n",
              "      <td>Enterprise</td>\n",
              "      <td>NaN</td>\n",
              "      <td>NaN</td>\n",
              "      <td>NaN</td>\n",
              "      <td>purchasing</td>\n",
              "      <td>...</td>\n",
              "      <td>less than 3 months</td>\n",
              "      <td>1</td>\n",
              "      <td>0</td>\n",
              "      <td>0.003079</td>\n",
              "      <td>0.026846</td>\n",
              "      <td>corporate / office</td>\n",
              "      <td>Engineering</td>\n",
              "      <td>0</td>\n",
              "      <td>일치</td>\n",
              "      <td>1.0</td>\n",
              "    </tr>\n",
              "    <tr>\n",
              "      <th>1</th>\n",
              "      <td>/PH-00/Philippines</td>\n",
              "      <td>AS</td>\n",
              "      <td>0.066667</td>\n",
              "      <td>23122</td>\n",
              "      <td>End-Customer</td>\n",
              "      <td>Enterprise</td>\n",
              "      <td>NaN</td>\n",
              "      <td>NaN</td>\n",
              "      <td>NaN</td>\n",
              "      <td>media and communication</td>\n",
              "      <td>...</td>\n",
              "      <td>less than 3 months</td>\n",
              "      <td>1</td>\n",
              "      <td>0</td>\n",
              "      <td>0.003079</td>\n",
              "      <td>0.026846</td>\n",
              "      <td>corporate / office</td>\n",
              "      <td>Advertising</td>\n",
              "      <td>1</td>\n",
              "      <td>일치</td>\n",
              "      <td>1.5</td>\n",
              "    </tr>\n",
              "    <tr>\n",
              "      <th>2</th>\n",
              "      <td>/Kolkata /India</td>\n",
              "      <td>AS</td>\n",
              "      <td>0.088889</td>\n",
              "      <td>1755</td>\n",
              "      <td>End-Customer</td>\n",
              "      <td>Enterprise</td>\n",
              "      <td>NaN</td>\n",
              "      <td>NaN</td>\n",
              "      <td>NaN</td>\n",
              "      <td>engineering</td>\n",
              "      <td>...</td>\n",
              "      <td>less than 3 months</td>\n",
              "      <td>1</td>\n",
              "      <td>0</td>\n",
              "      <td>0.003079</td>\n",
              "      <td>0.026846</td>\n",
              "      <td>corporate / office</td>\n",
              "      <td>Construction</td>\n",
              "      <td>2</td>\n",
              "      <td>일치</td>\n",
              "      <td>0.0</td>\n",
              "    </tr>\n",
              "    <tr>\n",
              "      <th>3</th>\n",
              "      <td>/Bhubaneswar/India</td>\n",
              "      <td>AS</td>\n",
              "      <td>0.088889</td>\n",
              "      <td>4919</td>\n",
              "      <td>End-Customer</td>\n",
              "      <td>Enterprise</td>\n",
              "      <td>NaN</td>\n",
              "      <td>NaN</td>\n",
              "      <td>NaN</td>\n",
              "      <td>entrepreneurship</td>\n",
              "      <td>...</td>\n",
              "      <td>less than 3 months</td>\n",
              "      <td>1</td>\n",
              "      <td>0</td>\n",
              "      <td>0.003079</td>\n",
              "      <td>0.026846</td>\n",
              "      <td>corporate / office</td>\n",
              "      <td>IT/Software</td>\n",
              "      <td>3</td>\n",
              "      <td>일치</td>\n",
              "      <td>1.0</td>\n",
              "    </tr>\n",
              "    <tr>\n",
              "      <th>4</th>\n",
              "      <td>/Hyderabad/India</td>\n",
              "      <td>AS</td>\n",
              "      <td>0.088889</td>\n",
              "      <td>17126</td>\n",
              "      <td>Specifier/ Influencer</td>\n",
              "      <td>Enterprise</td>\n",
              "      <td>NaN</td>\n",
              "      <td>NaN</td>\n",
              "      <td>NaN</td>\n",
              "      <td>consulting</td>\n",
              "      <td>...</td>\n",
              "      <td>less than 3 months</td>\n",
              "      <td>0</td>\n",
              "      <td>0</td>\n",
              "      <td>0.003079</td>\n",
              "      <td>0.026846</td>\n",
              "      <td>corporate / office</td>\n",
              "      <td>NaN</td>\n",
              "      <td>4</td>\n",
              "      <td>일치</td>\n",
              "      <td>2.5</td>\n",
              "    </tr>\n",
              "  </tbody>\n",
              "</table>\n",
              "<p>5 rows × 26 columns</p>\n",
              "</div>\n",
              "    <div class=\"colab-df-buttons\">\n",
              "\n",
              "  <div class=\"colab-df-container\">\n",
              "    <button class=\"colab-df-convert\" onclick=\"convertToInteractive('df-2ad6417e-abde-400f-a5de-6cb1d93e9c14')\"\n",
              "            title=\"Convert this dataframe to an interactive table.\"\n",
              "            style=\"display:none;\">\n",
              "\n",
              "  <svg xmlns=\"http://www.w3.org/2000/svg\" height=\"24px\" viewBox=\"0 -960 960 960\">\n",
              "    <path d=\"M120-120v-720h720v720H120Zm60-500h600v-160H180v160Zm220 220h160v-160H400v160Zm0 220h160v-160H400v160ZM180-400h160v-160H180v160Zm440 0h160v-160H620v160ZM180-180h160v-160H180v160Zm440 0h160v-160H620v160Z\"/>\n",
              "  </svg>\n",
              "    </button>\n",
              "\n",
              "  <style>\n",
              "    .colab-df-container {\n",
              "      display:flex;\n",
              "      gap: 12px;\n",
              "    }\n",
              "\n",
              "    .colab-df-convert {\n",
              "      background-color: #E8F0FE;\n",
              "      border: none;\n",
              "      border-radius: 50%;\n",
              "      cursor: pointer;\n",
              "      display: none;\n",
              "      fill: #1967D2;\n",
              "      height: 32px;\n",
              "      padding: 0 0 0 0;\n",
              "      width: 32px;\n",
              "    }\n",
              "\n",
              "    .colab-df-convert:hover {\n",
              "      background-color: #E2EBFA;\n",
              "      box-shadow: 0px 1px 2px rgba(60, 64, 67, 0.3), 0px 1px 3px 1px rgba(60, 64, 67, 0.15);\n",
              "      fill: #174EA6;\n",
              "    }\n",
              "\n",
              "    .colab-df-buttons div {\n",
              "      margin-bottom: 4px;\n",
              "    }\n",
              "\n",
              "    [theme=dark] .colab-df-convert {\n",
              "      background-color: #3B4455;\n",
              "      fill: #D2E3FC;\n",
              "    }\n",
              "\n",
              "    [theme=dark] .colab-df-convert:hover {\n",
              "      background-color: #434B5C;\n",
              "      box-shadow: 0px 1px 3px 1px rgba(0, 0, 0, 0.15);\n",
              "      filter: drop-shadow(0px 1px 2px rgba(0, 0, 0, 0.3));\n",
              "      fill: #FFFFFF;\n",
              "    }\n",
              "  </style>\n",
              "\n",
              "    <script>\n",
              "      const buttonEl =\n",
              "        document.querySelector('#df-2ad6417e-abde-400f-a5de-6cb1d93e9c14 button.colab-df-convert');\n",
              "      buttonEl.style.display =\n",
              "        google.colab.kernel.accessAllowed ? 'block' : 'none';\n",
              "\n",
              "      async function convertToInteractive(key) {\n",
              "        const element = document.querySelector('#df-2ad6417e-abde-400f-a5de-6cb1d93e9c14');\n",
              "        const dataTable =\n",
              "          await google.colab.kernel.invokeFunction('convertToInteractive',\n",
              "                                                    [key], {});\n",
              "        if (!dataTable) return;\n",
              "\n",
              "        const docLinkHtml = 'Like what you see? Visit the ' +\n",
              "          '<a target=\"_blank\" href=https://colab.research.google.com/notebooks/data_table.ipynb>data table notebook</a>'\n",
              "          + ' to learn more about interactive tables.';\n",
              "        element.innerHTML = '';\n",
              "        dataTable['output_type'] = 'display_data';\n",
              "        await google.colab.output.renderOutput(dataTable, element);\n",
              "        const docLink = document.createElement('div');\n",
              "        docLink.innerHTML = docLinkHtml;\n",
              "        element.appendChild(docLink);\n",
              "      }\n",
              "    </script>\n",
              "  </div>\n",
              "\n",
              "\n",
              "<div id=\"df-cf37cb9f-45c7-400d-82ed-12d0d9e7f313\">\n",
              "  <button class=\"colab-df-quickchart\" onclick=\"quickchart('df-cf37cb9f-45c7-400d-82ed-12d0d9e7f313')\"\n",
              "            title=\"Suggest charts\"\n",
              "            style=\"display:none;\">\n",
              "\n",
              "<svg xmlns=\"http://www.w3.org/2000/svg\" height=\"24px\"viewBox=\"0 0 24 24\"\n",
              "     width=\"24px\">\n",
              "    <g>\n",
              "        <path d=\"M19 3H5c-1.1 0-2 .9-2 2v14c0 1.1.9 2 2 2h14c1.1 0 2-.9 2-2V5c0-1.1-.9-2-2-2zM9 17H7v-7h2v7zm4 0h-2V7h2v10zm4 0h-2v-4h2v4z\"/>\n",
              "    </g>\n",
              "</svg>\n",
              "  </button>\n",
              "\n",
              "<style>\n",
              "  .colab-df-quickchart {\n",
              "      --bg-color: #E8F0FE;\n",
              "      --fill-color: #1967D2;\n",
              "      --hover-bg-color: #E2EBFA;\n",
              "      --hover-fill-color: #174EA6;\n",
              "      --disabled-fill-color: #AAA;\n",
              "      --disabled-bg-color: #DDD;\n",
              "  }\n",
              "\n",
              "  [theme=dark] .colab-df-quickchart {\n",
              "      --bg-color: #3B4455;\n",
              "      --fill-color: #D2E3FC;\n",
              "      --hover-bg-color: #434B5C;\n",
              "      --hover-fill-color: #FFFFFF;\n",
              "      --disabled-bg-color: #3B4455;\n",
              "      --disabled-fill-color: #666;\n",
              "  }\n",
              "\n",
              "  .colab-df-quickchart {\n",
              "    background-color: var(--bg-color);\n",
              "    border: none;\n",
              "    border-radius: 50%;\n",
              "    cursor: pointer;\n",
              "    display: none;\n",
              "    fill: var(--fill-color);\n",
              "    height: 32px;\n",
              "    padding: 0;\n",
              "    width: 32px;\n",
              "  }\n",
              "\n",
              "  .colab-df-quickchart:hover {\n",
              "    background-color: var(--hover-bg-color);\n",
              "    box-shadow: 0 1px 2px rgba(60, 64, 67, 0.3), 0 1px 3px 1px rgba(60, 64, 67, 0.15);\n",
              "    fill: var(--button-hover-fill-color);\n",
              "  }\n",
              "\n",
              "  .colab-df-quickchart-complete:disabled,\n",
              "  .colab-df-quickchart-complete:disabled:hover {\n",
              "    background-color: var(--disabled-bg-color);\n",
              "    fill: var(--disabled-fill-color);\n",
              "    box-shadow: none;\n",
              "  }\n",
              "\n",
              "  .colab-df-spinner {\n",
              "    border: 2px solid var(--fill-color);\n",
              "    border-color: transparent;\n",
              "    border-bottom-color: var(--fill-color);\n",
              "    animation:\n",
              "      spin 1s steps(1) infinite;\n",
              "  }\n",
              "\n",
              "  @keyframes spin {\n",
              "    0% {\n",
              "      border-color: transparent;\n",
              "      border-bottom-color: var(--fill-color);\n",
              "      border-left-color: var(--fill-color);\n",
              "    }\n",
              "    20% {\n",
              "      border-color: transparent;\n",
              "      border-left-color: var(--fill-color);\n",
              "      border-top-color: var(--fill-color);\n",
              "    }\n",
              "    30% {\n",
              "      border-color: transparent;\n",
              "      border-left-color: var(--fill-color);\n",
              "      border-top-color: var(--fill-color);\n",
              "      border-right-color: var(--fill-color);\n",
              "    }\n",
              "    40% {\n",
              "      border-color: transparent;\n",
              "      border-right-color: var(--fill-color);\n",
              "      border-top-color: var(--fill-color);\n",
              "    }\n",
              "    60% {\n",
              "      border-color: transparent;\n",
              "      border-right-color: var(--fill-color);\n",
              "    }\n",
              "    80% {\n",
              "      border-color: transparent;\n",
              "      border-right-color: var(--fill-color);\n",
              "      border-bottom-color: var(--fill-color);\n",
              "    }\n",
              "    90% {\n",
              "      border-color: transparent;\n",
              "      border-bottom-color: var(--fill-color);\n",
              "    }\n",
              "  }\n",
              "</style>\n",
              "\n",
              "  <script>\n",
              "    async function quickchart(key) {\n",
              "      const quickchartButtonEl =\n",
              "        document.querySelector('#' + key + ' button');\n",
              "      quickchartButtonEl.disabled = true;  // To prevent multiple clicks.\n",
              "      quickchartButtonEl.classList.add('colab-df-spinner');\n",
              "      try {\n",
              "        const charts = await google.colab.kernel.invokeFunction(\n",
              "            'suggestCharts', [key], {});\n",
              "      } catch (error) {\n",
              "        console.error('Error during call to suggestCharts:', error);\n",
              "      }\n",
              "      quickchartButtonEl.classList.remove('colab-df-spinner');\n",
              "      quickchartButtonEl.classList.add('colab-df-quickchart-complete');\n",
              "    }\n",
              "    (() => {\n",
              "      let quickchartButtonEl =\n",
              "        document.querySelector('#df-cf37cb9f-45c7-400d-82ed-12d0d9e7f313 button');\n",
              "      quickchartButtonEl.style.display =\n",
              "        google.colab.kernel.accessAllowed ? 'block' : 'none';\n",
              "    })();\n",
              "  </script>\n",
              "</div>\n",
              "\n",
              "    </div>\n",
              "  </div>\n"
            ],
            "application/vnd.google.colaboratory.intrinsic+json": {
              "type": "dataframe",
              "variable_name": "train_x"
            }
          },
          "metadata": {},
          "execution_count": 22
        }
      ],
      "source": [
        "train_x.head(5)"
      ]
    },
    {
      "cell_type": "code",
      "execution_count": null,
      "metadata": {
        "colab": {
          "base_uri": "https://localhost:8080/",
          "height": 308
        },
        "id": "5R38x1gOkpZk",
        "outputId": "53fbed61-d2cb-4a82-9fa6-d807bc7b0c3b"
      },
      "outputs": [
        {
          "output_type": "execute_result",
          "data": {
            "text/plain": [
              "           customer_country business_unit  com_reg_ver_win_rate  customer_idx  \\\n",
              "0  /Quezon City/Philippines            AS              0.066667         32160   \n",
              "1        /PH-00/Philippines            AS              0.066667         23122   \n",
              "2           /Kolkata /India            AS              0.088889          1755   \n",
              "3        /Bhubaneswar/India            AS              0.088889          4919   \n",
              "4          /Hyderabad/India            AS              0.088889         17126   \n",
              "\n",
              "           customer_type  enterprise  id_strategic_ver  it_strategic_ver  \\\n",
              "0           End-Customer  Enterprise               NaN               NaN   \n",
              "1           End-Customer  Enterprise               NaN               NaN   \n",
              "2           End-Customer  Enterprise               NaN               NaN   \n",
              "3           End-Customer  Enterprise               NaN               NaN   \n",
              "4  Specifier/ Influencer  Enterprise               NaN               NaN   \n",
              "\n",
              "   idit_strategic_ver             customer_job  ... ver_cus ver_pro  \\\n",
              "0                 NaN               purchasing  ...       1       0   \n",
              "1                 NaN  media and communication  ...       1       0   \n",
              "2                 NaN              engineering  ...       1       0   \n",
              "3                 NaN         entrepreneurship  ...       1       0   \n",
              "4                 NaN               consulting  ...       0       0   \n",
              "\n",
              "  ver_win_rate_x ver_win_ratio_per_bu       business_area business_subarea  \\\n",
              "0       0.003079             0.026846  corporate / office      Engineering   \n",
              "1       0.003079             0.026846  corporate / office      Advertising   \n",
              "2       0.003079             0.026846  corporate / office     Construction   \n",
              "3       0.003079             0.026846  corporate / office      IT/Software   \n",
              "4       0.003079             0.026846  corporate / office              NaN   \n",
              "\n",
              "  lead_owner  same_country  engagement_weight_sum  is_converted  \n",
              "0          0            일치                    1.0             1  \n",
              "1          1            일치                    1.5             1  \n",
              "2          2            일치                    0.0             1  \n",
              "3          3            일치                    1.0             1  \n",
              "4          4            일치                    2.5             1  \n",
              "\n",
              "[5 rows x 27 columns]"
            ],
            "text/html": [
              "\n",
              "  <div id=\"df-b6703def-217e-4bc9-8391-daf84cce4377\" class=\"colab-df-container\">\n",
              "    <div>\n",
              "<style scoped>\n",
              "    .dataframe tbody tr th:only-of-type {\n",
              "        vertical-align: middle;\n",
              "    }\n",
              "\n",
              "    .dataframe tbody tr th {\n",
              "        vertical-align: top;\n",
              "    }\n",
              "\n",
              "    .dataframe thead th {\n",
              "        text-align: right;\n",
              "    }\n",
              "</style>\n",
              "<table border=\"1\" class=\"dataframe\">\n",
              "  <thead>\n",
              "    <tr style=\"text-align: right;\">\n",
              "      <th></th>\n",
              "      <th>customer_country</th>\n",
              "      <th>business_unit</th>\n",
              "      <th>com_reg_ver_win_rate</th>\n",
              "      <th>customer_idx</th>\n",
              "      <th>customer_type</th>\n",
              "      <th>enterprise</th>\n",
              "      <th>id_strategic_ver</th>\n",
              "      <th>it_strategic_ver</th>\n",
              "      <th>idit_strategic_ver</th>\n",
              "      <th>customer_job</th>\n",
              "      <th>...</th>\n",
              "      <th>ver_cus</th>\n",
              "      <th>ver_pro</th>\n",
              "      <th>ver_win_rate_x</th>\n",
              "      <th>ver_win_ratio_per_bu</th>\n",
              "      <th>business_area</th>\n",
              "      <th>business_subarea</th>\n",
              "      <th>lead_owner</th>\n",
              "      <th>same_country</th>\n",
              "      <th>engagement_weight_sum</th>\n",
              "      <th>is_converted</th>\n",
              "    </tr>\n",
              "  </thead>\n",
              "  <tbody>\n",
              "    <tr>\n",
              "      <th>0</th>\n",
              "      <td>/Quezon City/Philippines</td>\n",
              "      <td>AS</td>\n",
              "      <td>0.066667</td>\n",
              "      <td>32160</td>\n",
              "      <td>End-Customer</td>\n",
              "      <td>Enterprise</td>\n",
              "      <td>NaN</td>\n",
              "      <td>NaN</td>\n",
              "      <td>NaN</td>\n",
              "      <td>purchasing</td>\n",
              "      <td>...</td>\n",
              "      <td>1</td>\n",
              "      <td>0</td>\n",
              "      <td>0.003079</td>\n",
              "      <td>0.026846</td>\n",
              "      <td>corporate / office</td>\n",
              "      <td>Engineering</td>\n",
              "      <td>0</td>\n",
              "      <td>일치</td>\n",
              "      <td>1.0</td>\n",
              "      <td>1</td>\n",
              "    </tr>\n",
              "    <tr>\n",
              "      <th>1</th>\n",
              "      <td>/PH-00/Philippines</td>\n",
              "      <td>AS</td>\n",
              "      <td>0.066667</td>\n",
              "      <td>23122</td>\n",
              "      <td>End-Customer</td>\n",
              "      <td>Enterprise</td>\n",
              "      <td>NaN</td>\n",
              "      <td>NaN</td>\n",
              "      <td>NaN</td>\n",
              "      <td>media and communication</td>\n",
              "      <td>...</td>\n",
              "      <td>1</td>\n",
              "      <td>0</td>\n",
              "      <td>0.003079</td>\n",
              "      <td>0.026846</td>\n",
              "      <td>corporate / office</td>\n",
              "      <td>Advertising</td>\n",
              "      <td>1</td>\n",
              "      <td>일치</td>\n",
              "      <td>1.5</td>\n",
              "      <td>1</td>\n",
              "    </tr>\n",
              "    <tr>\n",
              "      <th>2</th>\n",
              "      <td>/Kolkata /India</td>\n",
              "      <td>AS</td>\n",
              "      <td>0.088889</td>\n",
              "      <td>1755</td>\n",
              "      <td>End-Customer</td>\n",
              "      <td>Enterprise</td>\n",
              "      <td>NaN</td>\n",
              "      <td>NaN</td>\n",
              "      <td>NaN</td>\n",
              "      <td>engineering</td>\n",
              "      <td>...</td>\n",
              "      <td>1</td>\n",
              "      <td>0</td>\n",
              "      <td>0.003079</td>\n",
              "      <td>0.026846</td>\n",
              "      <td>corporate / office</td>\n",
              "      <td>Construction</td>\n",
              "      <td>2</td>\n",
              "      <td>일치</td>\n",
              "      <td>0.0</td>\n",
              "      <td>1</td>\n",
              "    </tr>\n",
              "    <tr>\n",
              "      <th>3</th>\n",
              "      <td>/Bhubaneswar/India</td>\n",
              "      <td>AS</td>\n",
              "      <td>0.088889</td>\n",
              "      <td>4919</td>\n",
              "      <td>End-Customer</td>\n",
              "      <td>Enterprise</td>\n",
              "      <td>NaN</td>\n",
              "      <td>NaN</td>\n",
              "      <td>NaN</td>\n",
              "      <td>entrepreneurship</td>\n",
              "      <td>...</td>\n",
              "      <td>1</td>\n",
              "      <td>0</td>\n",
              "      <td>0.003079</td>\n",
              "      <td>0.026846</td>\n",
              "      <td>corporate / office</td>\n",
              "      <td>IT/Software</td>\n",
              "      <td>3</td>\n",
              "      <td>일치</td>\n",
              "      <td>1.0</td>\n",
              "      <td>1</td>\n",
              "    </tr>\n",
              "    <tr>\n",
              "      <th>4</th>\n",
              "      <td>/Hyderabad/India</td>\n",
              "      <td>AS</td>\n",
              "      <td>0.088889</td>\n",
              "      <td>17126</td>\n",
              "      <td>Specifier/ Influencer</td>\n",
              "      <td>Enterprise</td>\n",
              "      <td>NaN</td>\n",
              "      <td>NaN</td>\n",
              "      <td>NaN</td>\n",
              "      <td>consulting</td>\n",
              "      <td>...</td>\n",
              "      <td>0</td>\n",
              "      <td>0</td>\n",
              "      <td>0.003079</td>\n",
              "      <td>0.026846</td>\n",
              "      <td>corporate / office</td>\n",
              "      <td>NaN</td>\n",
              "      <td>4</td>\n",
              "      <td>일치</td>\n",
              "      <td>2.5</td>\n",
              "      <td>1</td>\n",
              "    </tr>\n",
              "  </tbody>\n",
              "</table>\n",
              "<p>5 rows × 27 columns</p>\n",
              "</div>\n",
              "    <div class=\"colab-df-buttons\">\n",
              "\n",
              "  <div class=\"colab-df-container\">\n",
              "    <button class=\"colab-df-convert\" onclick=\"convertToInteractive('df-b6703def-217e-4bc9-8391-daf84cce4377')\"\n",
              "            title=\"Convert this dataframe to an interactive table.\"\n",
              "            style=\"display:none;\">\n",
              "\n",
              "  <svg xmlns=\"http://www.w3.org/2000/svg\" height=\"24px\" viewBox=\"0 -960 960 960\">\n",
              "    <path d=\"M120-120v-720h720v720H120Zm60-500h600v-160H180v160Zm220 220h160v-160H400v160Zm0 220h160v-160H400v160ZM180-400h160v-160H180v160Zm440 0h160v-160H620v160ZM180-180h160v-160H180v160Zm440 0h160v-160H620v160Z\"/>\n",
              "  </svg>\n",
              "    </button>\n",
              "\n",
              "  <style>\n",
              "    .colab-df-container {\n",
              "      display:flex;\n",
              "      gap: 12px;\n",
              "    }\n",
              "\n",
              "    .colab-df-convert {\n",
              "      background-color: #E8F0FE;\n",
              "      border: none;\n",
              "      border-radius: 50%;\n",
              "      cursor: pointer;\n",
              "      display: none;\n",
              "      fill: #1967D2;\n",
              "      height: 32px;\n",
              "      padding: 0 0 0 0;\n",
              "      width: 32px;\n",
              "    }\n",
              "\n",
              "    .colab-df-convert:hover {\n",
              "      background-color: #E2EBFA;\n",
              "      box-shadow: 0px 1px 2px rgba(60, 64, 67, 0.3), 0px 1px 3px 1px rgba(60, 64, 67, 0.15);\n",
              "      fill: #174EA6;\n",
              "    }\n",
              "\n",
              "    .colab-df-buttons div {\n",
              "      margin-bottom: 4px;\n",
              "    }\n",
              "\n",
              "    [theme=dark] .colab-df-convert {\n",
              "      background-color: #3B4455;\n",
              "      fill: #D2E3FC;\n",
              "    }\n",
              "\n",
              "    [theme=dark] .colab-df-convert:hover {\n",
              "      background-color: #434B5C;\n",
              "      box-shadow: 0px 1px 3px 1px rgba(0, 0, 0, 0.15);\n",
              "      filter: drop-shadow(0px 1px 2px rgba(0, 0, 0, 0.3));\n",
              "      fill: #FFFFFF;\n",
              "    }\n",
              "  </style>\n",
              "\n",
              "    <script>\n",
              "      const buttonEl =\n",
              "        document.querySelector('#df-b6703def-217e-4bc9-8391-daf84cce4377 button.colab-df-convert');\n",
              "      buttonEl.style.display =\n",
              "        google.colab.kernel.accessAllowed ? 'block' : 'none';\n",
              "\n",
              "      async function convertToInteractive(key) {\n",
              "        const element = document.querySelector('#df-b6703def-217e-4bc9-8391-daf84cce4377');\n",
              "        const dataTable =\n",
              "          await google.colab.kernel.invokeFunction('convertToInteractive',\n",
              "                                                    [key], {});\n",
              "        if (!dataTable) return;\n",
              "\n",
              "        const docLinkHtml = 'Like what you see? Visit the ' +\n",
              "          '<a target=\"_blank\" href=https://colab.research.google.com/notebooks/data_table.ipynb>data table notebook</a>'\n",
              "          + ' to learn more about interactive tables.';\n",
              "        element.innerHTML = '';\n",
              "        dataTable['output_type'] = 'display_data';\n",
              "        await google.colab.output.renderOutput(dataTable, element);\n",
              "        const docLink = document.createElement('div');\n",
              "        docLink.innerHTML = docLinkHtml;\n",
              "        element.appendChild(docLink);\n",
              "      }\n",
              "    </script>\n",
              "  </div>\n",
              "\n",
              "\n",
              "<div id=\"df-b27fdca0-128a-4443-904d-efaea56729e0\">\n",
              "  <button class=\"colab-df-quickchart\" onclick=\"quickchart('df-b27fdca0-128a-4443-904d-efaea56729e0')\"\n",
              "            title=\"Suggest charts\"\n",
              "            style=\"display:none;\">\n",
              "\n",
              "<svg xmlns=\"http://www.w3.org/2000/svg\" height=\"24px\"viewBox=\"0 0 24 24\"\n",
              "     width=\"24px\">\n",
              "    <g>\n",
              "        <path d=\"M19 3H5c-1.1 0-2 .9-2 2v14c0 1.1.9 2 2 2h14c1.1 0 2-.9 2-2V5c0-1.1-.9-2-2-2zM9 17H7v-7h2v7zm4 0h-2V7h2v10zm4 0h-2v-4h2v4z\"/>\n",
              "    </g>\n",
              "</svg>\n",
              "  </button>\n",
              "\n",
              "<style>\n",
              "  .colab-df-quickchart {\n",
              "      --bg-color: #E8F0FE;\n",
              "      --fill-color: #1967D2;\n",
              "      --hover-bg-color: #E2EBFA;\n",
              "      --hover-fill-color: #174EA6;\n",
              "      --disabled-fill-color: #AAA;\n",
              "      --disabled-bg-color: #DDD;\n",
              "  }\n",
              "\n",
              "  [theme=dark] .colab-df-quickchart {\n",
              "      --bg-color: #3B4455;\n",
              "      --fill-color: #D2E3FC;\n",
              "      --hover-bg-color: #434B5C;\n",
              "      --hover-fill-color: #FFFFFF;\n",
              "      --disabled-bg-color: #3B4455;\n",
              "      --disabled-fill-color: #666;\n",
              "  }\n",
              "\n",
              "  .colab-df-quickchart {\n",
              "    background-color: var(--bg-color);\n",
              "    border: none;\n",
              "    border-radius: 50%;\n",
              "    cursor: pointer;\n",
              "    display: none;\n",
              "    fill: var(--fill-color);\n",
              "    height: 32px;\n",
              "    padding: 0;\n",
              "    width: 32px;\n",
              "  }\n",
              "\n",
              "  .colab-df-quickchart:hover {\n",
              "    background-color: var(--hover-bg-color);\n",
              "    box-shadow: 0 1px 2px rgba(60, 64, 67, 0.3), 0 1px 3px 1px rgba(60, 64, 67, 0.15);\n",
              "    fill: var(--button-hover-fill-color);\n",
              "  }\n",
              "\n",
              "  .colab-df-quickchart-complete:disabled,\n",
              "  .colab-df-quickchart-complete:disabled:hover {\n",
              "    background-color: var(--disabled-bg-color);\n",
              "    fill: var(--disabled-fill-color);\n",
              "    box-shadow: none;\n",
              "  }\n",
              "\n",
              "  .colab-df-spinner {\n",
              "    border: 2px solid var(--fill-color);\n",
              "    border-color: transparent;\n",
              "    border-bottom-color: var(--fill-color);\n",
              "    animation:\n",
              "      spin 1s steps(1) infinite;\n",
              "  }\n",
              "\n",
              "  @keyframes spin {\n",
              "    0% {\n",
              "      border-color: transparent;\n",
              "      border-bottom-color: var(--fill-color);\n",
              "      border-left-color: var(--fill-color);\n",
              "    }\n",
              "    20% {\n",
              "      border-color: transparent;\n",
              "      border-left-color: var(--fill-color);\n",
              "      border-top-color: var(--fill-color);\n",
              "    }\n",
              "    30% {\n",
              "      border-color: transparent;\n",
              "      border-left-color: var(--fill-color);\n",
              "      border-top-color: var(--fill-color);\n",
              "      border-right-color: var(--fill-color);\n",
              "    }\n",
              "    40% {\n",
              "      border-color: transparent;\n",
              "      border-right-color: var(--fill-color);\n",
              "      border-top-color: var(--fill-color);\n",
              "    }\n",
              "    60% {\n",
              "      border-color: transparent;\n",
              "      border-right-color: var(--fill-color);\n",
              "    }\n",
              "    80% {\n",
              "      border-color: transparent;\n",
              "      border-right-color: var(--fill-color);\n",
              "      border-bottom-color: var(--fill-color);\n",
              "    }\n",
              "    90% {\n",
              "      border-color: transparent;\n",
              "      border-bottom-color: var(--fill-color);\n",
              "    }\n",
              "  }\n",
              "</style>\n",
              "\n",
              "  <script>\n",
              "    async function quickchart(key) {\n",
              "      const quickchartButtonEl =\n",
              "        document.querySelector('#' + key + ' button');\n",
              "      quickchartButtonEl.disabled = true;  // To prevent multiple clicks.\n",
              "      quickchartButtonEl.classList.add('colab-df-spinner');\n",
              "      try {\n",
              "        const charts = await google.colab.kernel.invokeFunction(\n",
              "            'suggestCharts', [key], {});\n",
              "      } catch (error) {\n",
              "        console.error('Error during call to suggestCharts:', error);\n",
              "      }\n",
              "      quickchartButtonEl.classList.remove('colab-df-spinner');\n",
              "      quickchartButtonEl.classList.add('colab-df-quickchart-complete');\n",
              "    }\n",
              "    (() => {\n",
              "      let quickchartButtonEl =\n",
              "        document.querySelector('#df-b27fdca0-128a-4443-904d-efaea56729e0 button');\n",
              "      quickchartButtonEl.style.display =\n",
              "        google.colab.kernel.accessAllowed ? 'block' : 'none';\n",
              "    })();\n",
              "  </script>\n",
              "</div>\n",
              "\n",
              "    </div>\n",
              "  </div>\n"
            ],
            "application/vnd.google.colaboratory.intrinsic+json": {
              "type": "dataframe",
              "variable_name": "df_train"
            }
          },
          "metadata": {},
          "execution_count": 23
        }
      ],
      "source": [
        "df_train = pd.concat([train_x, train_y], axis = 1)\n",
        "df_train.head()"
      ]
    },
    {
      "cell_type": "markdown",
      "source": [
        "train/val 데이터 분리"
      ],
      "metadata": {
        "id": "_JLbfj2ilfkX"
      }
    },
    {
      "cell_type": "code",
      "execution_count": null,
      "metadata": {
        "id": "5WEyLQh4Tfg0"
      },
      "outputs": [],
      "source": [
        "x_train, x_val, y_train, y_val = train_test_split(\n",
        "    df_train.drop(\"is_converted\", axis=1),\n",
        "    df_train[\"is_converted\"],\n",
        "    test_size=0.2,\n",
        "    shuffle=True,\n",
        "    random_state=42\n",
        ")"
      ]
    },
    {
      "cell_type": "markdown",
      "metadata": {
        "id": "rUS4ZDHsRYPy"
      },
      "source": [
        "##CatBoostClassifier 사용하기"
      ]
    },
    {
      "cell_type": "code",
      "execution_count": null,
      "metadata": {
        "id": "DWZbCQEx9Diu"
      },
      "outputs": [],
      "source": [
        "from catboost import CatBoostClassifier, Pool"
      ]
    },
    {
      "cell_type": "markdown",
      "metadata": {
        "id": "eITsXqF_ZjyV"
      },
      "source": [
        "학습 및 검증 세팅\n",
        "\n",
        "---\n",
        "범주형 데이터, 텍스트 데이터, 수치형 데이터 변수를 인덱스로 지정하기\n"
      ]
    },
    {
      "cell_type": "code",
      "execution_count": null,
      "metadata": {
        "id": "cxFzOHUDRpD5"
      },
      "outputs": [],
      "source": [
        "# text 데이터 결측치 처리\n",
        "text_features=[0,13,16]\n",
        "\n",
        "\n",
        "for idx in text_features:\n",
        "    x_train.iloc[:, idx].fillna('', inplace=True)\n",
        "    x_val.iloc[:, idx].fillna('', inplace=True)\n",
        "\n",
        "# 범주형 변수 결측치 처리\n",
        "cat_features=[1,4,5,9,10,11,12,14,15,21,22,23,24]\n",
        "\n",
        "for idx in cat_features:\n",
        "    x_train.iloc[:, idx].fillna('none', inplace=True)\n",
        "    x_val.iloc[:, idx].fillna('none', inplace=True)\n",
        "\n",
        "# 수치형 변수 결측치 처리\n",
        "nantozero=[6,7,8]\n",
        "for idx in nantozero:\n",
        "    x_train.iloc[:, idx].fillna(0, inplace=True)\n",
        "    x_val.iloc[:, idx].fillna(0, inplace=True)\n",
        "\n",
        "# 학습데이터 세팅\n",
        "train_data = Pool(\n",
        "    x_train,\n",
        "    label = y_train,\n",
        "    cat_features=[1,4,5,9,10,11,12,14,15,21,22,23,24],\n",
        "    text_features= text_features\n",
        ")\n",
        "\n",
        "# 검증데이터 세팅\n",
        "eval_data = Pool(\n",
        "    x_val,\n",
        "    label = y_val,\n",
        "    cat_features=[1,4,5,9,10,11,12,14,15,21,22,23,24],\n",
        "    text_features= text_features\n",
        ")"
      ]
    },
    {
      "cell_type": "code",
      "execution_count": null,
      "metadata": {
        "colab": {
          "base_uri": "https://localhost:8080/"
        },
        "id": "e6XXaY-YU5E9",
        "outputId": "51a17f94-385d-45ae-d095-c900b041443e"
      },
      "outputs": [
        {
          "output_type": "stream",
          "name": "stdout",
          "text": [
            "0:\ttest: 0.8880520\tbest: 0.8880520 (0)\ttotal: 1.1s\tremaining: 36m 35s\n",
            "100:\ttest: 0.9803481\tbest: 0.9803481 (100)\ttotal: 1m 4s\tremaining: 20m 21s\n",
            "200:\ttest: 0.9821405\tbest: 0.9821405 (200)\ttotal: 1m 52s\tremaining: 16m 44s\n",
            "300:\ttest: 0.9838407\tbest: 0.9838841 (298)\ttotal: 2m 42s\tremaining: 15m 18s\n",
            "400:\ttest: 0.9844993\tbest: 0.9845127 (396)\ttotal: 3m 31s\tremaining: 14m 4s\n",
            "500:\ttest: 0.9847410\tbest: 0.9847710 (496)\ttotal: 4m 21s\tremaining: 13m 1s\n",
            "600:\ttest: 0.9849128\tbest: 0.9849260 (589)\ttotal: 5m 9s\tremaining: 12m 1s\n",
            "700:\ttest: 0.9853017\tbest: 0.9853141 (697)\ttotal: 5m 59s\tremaining: 11m 6s\n",
            "800:\ttest: 0.9854019\tbest: 0.9854517 (788)\ttotal: 6m 47s\tremaining: 10m 9s\n",
            "900:\ttest: 0.9855377\tbest: 0.9855486 (894)\ttotal: 7m 37s\tremaining: 9m 17s\n",
            "1000:\ttest: 0.9857002\tbest: 0.9857149 (983)\ttotal: 8m 25s\tremaining: 8m 24s\n",
            "1100:\ttest: 0.9857604\tbest: 0.9857741 (1091)\ttotal: 9m 13s\tremaining: 7m 32s\n",
            "1200:\ttest: 0.9858003\tbest: 0.9858122 (1185)\ttotal: 10m 2s\tremaining: 6m 40s\n",
            "Stopped by overfitting detector  (50 iterations wait)\n",
            "\n",
            "bestTest = 0.9858240504\n",
            "bestIteration = 1249\n",
            "\n",
            "Shrink model to first 1250 iterations.\n",
            "{'learn': {'Logloss': 0.09928843019535351}, 'validation': {'Logloss': 0.1606265070303153, 'AUC': 0.9858240504113426}}\n"
          ]
        }
      ],
      "source": [
        "# 모델 정의\n",
        "model = CatBoostClassifier(\n",
        "    iterations=2000,  # 더 많은 반복으로 모델이 데이터에서 패턴을 더 잘 학습하도록 합니다.\n",
        "    learning_rate=0.05,  # 학습률을 증가시켜 학습 속도를 높입니다. 너무 높으면 과적합의 위험이 있으므로 조심하세요.\n",
        "    depth=6,  # 트리의 깊이를 설정합니다. 너무 깊은 트리는 과적합을 일으킬 수 있습니다.\n",
        "    l2_leaf_reg=3,  # L2 정규화 계수를 사용하여 모델의 과적합을 방지합니다.\n",
        "    eval_metric='AUC',  # 이진 분류 작업에 적합한 평가 지표인 AUC를 사용합니다.\n",
        "    border_count=254,  # 기본값인 254를 사용하거나, 모델의 성능을 개선하기 위해 조정할 수 있습니다.\n",
        "    random_seed=42,  # 결과의 재현성을 위해 랜덤 시드를 설정합니다.\n",
        "    verbose=100,  # 학습 과정에서 100번의 반복마다 메트릭을 출력합니다.\n",
        "    use_best_model=True,  # 검증 세트에서 가장 좋은 모델을 사용합니다.\n",
        "    od_type='Iter',  # 반복에 대한 과적합 감지 유형을 설정합니다.\n",
        "    od_wait=50,# 지정된 반복 동안 성능이 개선되지 않으면 학습을 중단합니다.\n",
        "    class_weights= [1,11.5] # 1:10 일때 현재 성능 최고\n",
        ")\n",
        "\n",
        "# 모델 학습 및 검증\n",
        "model.fit(train_data,\n",
        "          eval_set= eval_data) # 학습과정 모니터링 설정\n",
        "\n",
        "\n",
        "\n",
        "print(model.get_best_score())"
      ]
    },
    {
      "cell_type": "markdown",
      "metadata": {
        "id": "8r1zcm1qXcpf"
      },
      "source": [
        "##검증 데이터로 평가지표 출력해보기"
      ]
    },
    {
      "cell_type": "code",
      "execution_count": null,
      "metadata": {
        "id": "3kXS52vtXbmh"
      },
      "outputs": [],
      "source": [
        "def get__clf_eval(y_test, y_pred=None):\n",
        "    confusion = confusion_matrix(y_test, y_pred, labels=[True, False]) #(답, 예측)\n",
        "    accuracy = accuracy_score(y_test, y_pred)\n",
        "    precision = precision_score(y_test, y_pred, labels=[True, False])\n",
        "    recall = recall_score(y_test, y_pred)\n",
        "    F1 = f1_score(y_test, y_pred, labels=[True, False])\n",
        "\n",
        "    print(\"오차행렬:\\n\", confusion)\n",
        "    print(\"\\n정확도: {:.4f}\".format(accuracy))\n",
        "    print(\"정밀도: {:.4f}\".format(precision))\n",
        "    print(\"재현율: {:.4f}\".format(recall))\n",
        "    print(\"F1: {:.4f}\".format(F1))"
      ]
    },
    {
      "cell_type": "code",
      "execution_count": null,
      "metadata": {
        "colab": {
          "base_uri": "https://localhost:8080/"
        },
        "id": "2F5S0_7wXgpE",
        "outputId": "247af78b-4378-42f3-e4fa-99b397fed257",
        "scrolled": true
      },
      "outputs": [
        {
          "output_type": "stream",
          "name": "stdout",
          "text": [
            "오차행렬:\n",
            " [[  909    76]\n",
            " [  490 10385]]\n",
            "\n",
            "정확도: 0.9523\n",
            "정밀도: 0.6497\n",
            "재현율: 0.9228\n",
            "F1: 0.7626\n"
          ]
        }
      ],
      "source": [
        "pred = model.predict(x_val)\n",
        "pred = np.where(pred == 1, True, False)\n",
        "get__clf_eval(y_val, pred)"
      ]
    },
    {
      "cell_type": "markdown",
      "source": [
        "# 학습한 모델 저장"
      ],
      "metadata": {
        "id": "1twQF_7Tp1uN"
      }
    },
    {
      "cell_type": "code",
      "source": [
        "pip install joblib"
      ],
      "metadata": {
        "colab": {
          "base_uri": "https://localhost:8080/"
        },
        "id": "2s4IJ2uLp1Ot",
        "outputId": "0f69ecd7-f79b-4741-f8ec-a5d9a32a09f7"
      },
      "execution_count": null,
      "outputs": [
        {
          "output_type": "stream",
          "name": "stdout",
          "text": [
            "Requirement already satisfied: joblib in /usr/local/lib/python3.10/dist-packages (1.3.2)\n"
          ]
        }
      ]
    },
    {
      "cell_type": "code",
      "source": [
        "from joblib import dump\n",
        "\n",
        "dump(model, 'LGaimers4기_Catboost.joblib')"
      ],
      "metadata": {
        "colab": {
          "base_uri": "https://localhost:8080/"
        },
        "id": "F7o1e_PIp0Bw",
        "outputId": "f8cb3708-45ca-4104-cfe1-4529d335ccb1"
      },
      "execution_count": null,
      "outputs": [
        {
          "output_type": "execute_result",
          "data": {
            "text/plain": [
              "['LGaimers4기_Catboost.joblib']"
            ]
          },
          "metadata": {},
          "execution_count": 43
        }
      ]
    },
    {
      "cell_type": "code",
      "source": [
        "from joblib import load\n",
        "\n",
        "model = load('LGaimers4기_Catboost.joblib')"
      ],
      "metadata": {
        "id": "S8KiBoiRqKnG"
      },
      "execution_count": null,
      "outputs": []
    },
    {
      "cell_type": "markdown",
      "metadata": {
        "id": "tenRmNvIW15K"
      },
      "source": [
        "## 추론"
      ]
    },
    {
      "cell_type": "code",
      "execution_count": null,
      "metadata": {
        "id": "JiZMVbTKYgUF"
      },
      "outputs": [],
      "source": [
        "# 예측에 필요한 데이터 분리\n",
        "x_test = df_test.drop([\"is_converted\", \"id\"], axis=1)"
      ]
    },
    {
      "cell_type": "markdown",
      "source": [
        "학습 데이터와 똑같이 데이터 처리"
      ],
      "metadata": {
        "id": "czUYhjEFmBE-"
      }
    },
    {
      "cell_type": "code",
      "execution_count": null,
      "metadata": {
        "id": "PtpxLsREkpZq"
      },
      "outputs": [],
      "source": [
        "#가공변수+열삭제\n",
        "x_test['same_country'] = (x_test['customer_country'] == x_test['customer_country.1']).astype(int)\n",
        "x_test['same_country'] = x_test['same_country'].map({0: '불일치', 1: '일치'})\n",
        "x_test.drop('customer_country.1', axis=1, inplace=True)"
      ]
    },
    {
      "cell_type": "code",
      "execution_count": null,
      "metadata": {
        "id": "32dc-nH3kpZq"
      },
      "outputs": [],
      "source": [
        "# lead_desc_length의 전체 평균 계산\n",
        "lead_desc_length_avg = x_test['lead_desc_length'].mean()"
      ]
    },
    {
      "cell_type": "code",
      "execution_count": null,
      "metadata": {
        "id": "IKiYDk8ykpZq"
      },
      "outputs": [],
      "source": [
        "x_test['historical_existing_cnt'].fillna(0, inplace=True)"
      ]
    },
    {
      "cell_type": "code",
      "execution_count": null,
      "metadata": {
        "id": "yzJCPmETkpZq"
      },
      "outputs": [],
      "source": [
        "x_test['engagement_weight_sum'] = x_test.apply(calculate_engagement_weight, axis=1)"
      ]
    },
    {
      "cell_type": "code",
      "execution_count": null,
      "metadata": {
        "id": "6_BcEnX4kpZq"
      },
      "outputs": [],
      "source": [
        "x_test.drop('bant_submit', axis=1, inplace=True)"
      ]
    },
    {
      "cell_type": "code",
      "execution_count": null,
      "metadata": {
        "id": "CKXTTmyXkpZq"
      },
      "outputs": [],
      "source": [
        "x_test.drop('lead_desc_length', axis=1, inplace=True)"
      ]
    },
    {
      "cell_type": "code",
      "execution_count": null,
      "metadata": {
        "id": "Yd3bMrtpkpZq"
      },
      "outputs": [],
      "source": [
        "x_test.drop('historical_existing_cnt', axis=1, inplace=True)"
      ]
    },
    {
      "cell_type": "code",
      "execution_count": null,
      "metadata": {
        "id": "NGzXhhgXZ_ZF"
      },
      "outputs": [],
      "source": [
        "####### 학습데이터와 똑같이 전처리 #######\n",
        "\n",
        "nantozero=[6,7,8]\n",
        "for idx in nantozero:\n",
        "    x_test.iloc[:, idx].fillna(0, inplace=True)\n",
        "\n",
        "text_features=[0,13,16]\n",
        "\n",
        "for idx in text_features:\n",
        "    x_test.iloc[:, idx].fillna('', inplace=True)\n",
        "\n",
        "cat_features=[1,4,5,9,10,11,12,14,15,21,22,23,24]\n",
        "\n",
        "for idx in cat_features:\n",
        "    x_test.iloc[:, idx].fillna('none', inplace=True)\n",
        "\n",
        "#테스트 데이터 세팅\n",
        "test_data = Pool(\n",
        "    x_test,\n",
        "    cat_features=[1,4,5,9,10,11,12,14,15,21,22,23,24],\n",
        "    text_features= text_features\n",
        ")"
      ]
    },
    {
      "cell_type": "markdown",
      "source": [
        "예측"
      ],
      "metadata": {
        "id": "7QEwlILcmKv-"
      }
    },
    {
      "cell_type": "code",
      "execution_count": null,
      "metadata": {
        "id": "q2CafZI8W1Q4",
        "colab": {
          "base_uri": "https://localhost:8080/"
        },
        "outputId": "4beee974-0aac-4f3a-c0d9-1ae2c9140995"
      },
      "outputs": [
        {
          "output_type": "execute_result",
          "data": {
            "text/plain": [
              "1840"
            ]
          },
          "metadata": {},
          "execution_count": 41
        }
      ],
      "source": [
        "test_pred = model.predict(test_data)\n",
        "sum(test_pred) # True로 예측된 개수"
      ]
    },
    {
      "cell_type": "code",
      "execution_count": null,
      "metadata": {
        "colab": {
          "base_uri": "https://localhost:8080/"
        },
        "id": "MqIbhTS5adwD",
        "outputId": "99591daf-841e-4f11-f550-40c7a9f5bd42"
      },
      "outputs": [
        {
          "output_type": "execute_result",
          "data": {
            "text/plain": [
              "array([ True,  True,  True, ..., False, False,  True])"
            ]
          },
          "metadata": {},
          "execution_count": 40
        }
      ],
      "source": [
        "# 1,0 을 True,False로 바꿔주기\n",
        "test_pred = np.where(test_pred == 1, True, False)\n",
        "test_pred"
      ]
    },
    {
      "cell_type": "markdown",
      "metadata": {
        "id": "4whS--CIYtCT"
      },
      "source": [
        "##제출 파일 저장"
      ]
    },
    {
      "cell_type": "code",
      "execution_count": null,
      "metadata": {
        "id": "_DzU_kEsYuiG"
      },
      "outputs": [],
      "source": [
        "# 제출 데이터 읽어오기 (df_test는 전처리된 데이터가 저장됨)\n",
        "df_sub = pd.read_csv(\"submission.csv\")\n",
        "df_sub[\"is_converted\"] = test_pred\n",
        "\n",
        "# 제출 파일 저장\n",
        "df_sub.to_csv(\"submission.csv\", index=False)"
      ]
    }
  ],
  "metadata": {
    "colab": {
      "provenance": []
    },
    "kernelspec": {
      "display_name": "Python 3 (ipykernel)",
      "language": "python",
      "name": "python3"
    },
    "language_info": {
      "codemirror_mode": {
        "name": "ipython",
        "version": 3
      },
      "file_extension": ".py",
      "mimetype": "text/x-python",
      "name": "python",
      "nbconvert_exporter": "python",
      "pygments_lexer": "ipython3",
      "version": "3.10.13"
    }
  },
  "nbformat": 4,
  "nbformat_minor": 0
}